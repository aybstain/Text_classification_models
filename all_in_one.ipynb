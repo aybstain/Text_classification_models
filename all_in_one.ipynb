{
 "cells": [
  {
   "cell_type": "markdown",
   "id": "58841891",
   "metadata": {},
   "source": [
    "## Getting data"
   ]
  },
  {
   "cell_type": "markdown",
   "id": "7c961e30",
   "metadata": {},
   "source": [
    "Link:https://www.kaggle.com/datasets/amananandrai/ag-news-classification-dataset?select=test.csv"
   ]
  },
  {
   "cell_type": "code",
   "execution_count": 1,
   "id": "dd19d602",
   "metadata": {},
   "outputs": [],
   "source": [
    "import pandas as pd"
   ]
  },
  {
   "cell_type": "code",
   "execution_count": 2,
   "id": "23c40939",
   "metadata": {},
   "outputs": [],
   "source": [
    "train = pd.read_csv(\"archive/train.csv\")\n",
    "test = pd.read_csv(\"archive/test.csv\")"
   ]
  },
  {
   "cell_type": "code",
   "execution_count": 3,
   "id": "8aca6680",
   "metadata": {},
   "outputs": [
    {
     "data": {
      "text/html": [
       "<div>\n",
       "<style scoped>\n",
       "    .dataframe tbody tr th:only-of-type {\n",
       "        vertical-align: middle;\n",
       "    }\n",
       "\n",
       "    .dataframe tbody tr th {\n",
       "        vertical-align: top;\n",
       "    }\n",
       "\n",
       "    .dataframe thead th {\n",
       "        text-align: right;\n",
       "    }\n",
       "</style>\n",
       "<table border=\"1\" class=\"dataframe\">\n",
       "  <thead>\n",
       "    <tr style=\"text-align: right;\">\n",
       "      <th></th>\n",
       "      <th>Class Index</th>\n",
       "      <th>Title</th>\n",
       "      <th>Description</th>\n",
       "    </tr>\n",
       "  </thead>\n",
       "  <tbody>\n",
       "    <tr>\n",
       "      <th>0</th>\n",
       "      <td>3</td>\n",
       "      <td>Wall St. Bears Claw Back Into the Black (Reuters)</td>\n",
       "      <td>Reuters - Short-sellers, Wall Street's dwindli...</td>\n",
       "    </tr>\n",
       "    <tr>\n",
       "      <th>1</th>\n",
       "      <td>3</td>\n",
       "      <td>Carlyle Looks Toward Commercial Aerospace (Reu...</td>\n",
       "      <td>Reuters - Private investment firm Carlyle Grou...</td>\n",
       "    </tr>\n",
       "    <tr>\n",
       "      <th>2</th>\n",
       "      <td>3</td>\n",
       "      <td>Oil and Economy Cloud Stocks' Outlook (Reuters)</td>\n",
       "      <td>Reuters - Soaring crude prices plus worries\\ab...</td>\n",
       "    </tr>\n",
       "    <tr>\n",
       "      <th>3</th>\n",
       "      <td>3</td>\n",
       "      <td>Iraq Halts Oil Exports from Main Southern Pipe...</td>\n",
       "      <td>Reuters - Authorities have halted oil export\\f...</td>\n",
       "    </tr>\n",
       "    <tr>\n",
       "      <th>4</th>\n",
       "      <td>3</td>\n",
       "      <td>Oil prices soar to all-time record, posing new...</td>\n",
       "      <td>AFP - Tearaway world oil prices, toppling reco...</td>\n",
       "    </tr>\n",
       "  </tbody>\n",
       "</table>\n",
       "</div>"
      ],
      "text/plain": [
       "   Class Index                                              Title  \\\n",
       "0            3  Wall St. Bears Claw Back Into the Black (Reuters)   \n",
       "1            3  Carlyle Looks Toward Commercial Aerospace (Reu...   \n",
       "2            3    Oil and Economy Cloud Stocks' Outlook (Reuters)   \n",
       "3            3  Iraq Halts Oil Exports from Main Southern Pipe...   \n",
       "4            3  Oil prices soar to all-time record, posing new...   \n",
       "\n",
       "                                         Description  \n",
       "0  Reuters - Short-sellers, Wall Street's dwindli...  \n",
       "1  Reuters - Private investment firm Carlyle Grou...  \n",
       "2  Reuters - Soaring crude prices plus worries\\ab...  \n",
       "3  Reuters - Authorities have halted oil export\\f...  \n",
       "4  AFP - Tearaway world oil prices, toppling reco...  "
      ]
     },
     "execution_count": 3,
     "metadata": {},
     "output_type": "execute_result"
    }
   ],
   "source": [
    "train.head()"
   ]
  },
  {
   "cell_type": "code",
   "execution_count": 4,
   "id": "8706cd7f",
   "metadata": {},
   "outputs": [
    {
     "data": {
      "text/html": [
       "<div>\n",
       "<style scoped>\n",
       "    .dataframe tbody tr th:only-of-type {\n",
       "        vertical-align: middle;\n",
       "    }\n",
       "\n",
       "    .dataframe tbody tr th {\n",
       "        vertical-align: top;\n",
       "    }\n",
       "\n",
       "    .dataframe thead th {\n",
       "        text-align: right;\n",
       "    }\n",
       "</style>\n",
       "<table border=\"1\" class=\"dataframe\">\n",
       "  <thead>\n",
       "    <tr style=\"text-align: right;\">\n",
       "      <th></th>\n",
       "      <th>Class Index</th>\n",
       "      <th>Title</th>\n",
       "      <th>Description</th>\n",
       "    </tr>\n",
       "  </thead>\n",
       "  <tbody>\n",
       "    <tr>\n",
       "      <th>0</th>\n",
       "      <td>3</td>\n",
       "      <td>Fears for T N pension after talks</td>\n",
       "      <td>Unions representing workers at Turner   Newall...</td>\n",
       "    </tr>\n",
       "    <tr>\n",
       "      <th>1</th>\n",
       "      <td>4</td>\n",
       "      <td>The Race is On: Second Private Team Sets Launc...</td>\n",
       "      <td>SPACE.com - TORONTO, Canada -- A second\\team o...</td>\n",
       "    </tr>\n",
       "    <tr>\n",
       "      <th>2</th>\n",
       "      <td>4</td>\n",
       "      <td>Ky. Company Wins Grant to Study Peptides (AP)</td>\n",
       "      <td>AP - A company founded by a chemistry research...</td>\n",
       "    </tr>\n",
       "    <tr>\n",
       "      <th>3</th>\n",
       "      <td>4</td>\n",
       "      <td>Prediction Unit Helps Forecast Wildfires (AP)</td>\n",
       "      <td>AP - It's barely dawn when Mike Fitzpatrick st...</td>\n",
       "    </tr>\n",
       "    <tr>\n",
       "      <th>4</th>\n",
       "      <td>4</td>\n",
       "      <td>Calif. Aims to Limit Farm-Related Smog (AP)</td>\n",
       "      <td>AP - Southern California's smog-fighting agenc...</td>\n",
       "    </tr>\n",
       "  </tbody>\n",
       "</table>\n",
       "</div>"
      ],
      "text/plain": [
       "   Class Index                                              Title  \\\n",
       "0            3                  Fears for T N pension after talks   \n",
       "1            4  The Race is On: Second Private Team Sets Launc...   \n",
       "2            4      Ky. Company Wins Grant to Study Peptides (AP)   \n",
       "3            4      Prediction Unit Helps Forecast Wildfires (AP)   \n",
       "4            4        Calif. Aims to Limit Farm-Related Smog (AP)   \n",
       "\n",
       "                                         Description  \n",
       "0  Unions representing workers at Turner   Newall...  \n",
       "1  SPACE.com - TORONTO, Canada -- A second\\team o...  \n",
       "2  AP - A company founded by a chemistry research...  \n",
       "3  AP - It's barely dawn when Mike Fitzpatrick st...  \n",
       "4  AP - Southern California's smog-fighting agenc...  "
      ]
     },
     "execution_count": 4,
     "metadata": {},
     "output_type": "execute_result"
    }
   ],
   "source": [
    "test.head()"
   ]
  },
  {
   "cell_type": "code",
   "execution_count": 5,
   "id": "b55c1072",
   "metadata": {},
   "outputs": [
    {
     "name": "stdout",
     "output_type": "stream",
     "text": [
      "(120000, 3)\n",
      "(7600, 3)\n"
     ]
    }
   ],
   "source": [
    "print(train.shape)\n",
    "print(test.shape)"
   ]
  },
  {
   "cell_type": "code",
   "execution_count": 6,
   "id": "1abedf19",
   "metadata": {},
   "outputs": [],
   "source": [
    "train = train.loc[:9999]\n",
    "test = test.loc[:1999]"
   ]
  },
  {
   "cell_type": "code",
   "execution_count": 7,
   "id": "05e52212",
   "metadata": {},
   "outputs": [
    {
     "name": "stdout",
     "output_type": "stream",
     "text": [
      "(10000, 3)\n",
      "(2000, 3)\n"
     ]
    }
   ],
   "source": [
    "print(train.shape)\n",
    "print(test.shape)"
   ]
  },
  {
   "cell_type": "code",
   "execution_count": 8,
   "id": "2fd1cf68",
   "metadata": {},
   "outputs": [
    {
     "name": "stdout",
     "output_type": "stream",
     "text": [
      "[3 4 2 1]\n",
      "[3 4 2 1]\n"
     ]
    }
   ],
   "source": [
    "#The class ids are numbered 1-4 where 1 represents World, 2 represents Sports, 3 represents Business and 4 represents Sci/Tech\n",
    "print(train[\"Class Index\"].unique())\n",
    "print(test[\"Class Index\"].unique())"
   ]
  },
  {
   "cell_type": "markdown",
   "id": "52201bef",
   "metadata": {},
   "source": [
    "## Time for some preprocessing"
   ]
  },
  {
   "cell_type": "code",
   "execution_count": 9,
   "id": "d3f7e271",
   "metadata": {},
   "outputs": [],
   "source": [
    "# merging train and test so we do the same cleaning for both of them\n",
    "data = pd.concat([train, test], axis=0, ignore_index=True)"
   ]
  },
  {
   "cell_type": "code",
   "execution_count": 10,
   "id": "e302365a",
   "metadata": {},
   "outputs": [
    {
     "data": {
      "text/html": [
       "<div>\n",
       "<style scoped>\n",
       "    .dataframe tbody tr th:only-of-type {\n",
       "        vertical-align: middle;\n",
       "    }\n",
       "\n",
       "    .dataframe tbody tr th {\n",
       "        vertical-align: top;\n",
       "    }\n",
       "\n",
       "    .dataframe thead th {\n",
       "        text-align: right;\n",
       "    }\n",
       "</style>\n",
       "<table border=\"1\" class=\"dataframe\">\n",
       "  <thead>\n",
       "    <tr style=\"text-align: right;\">\n",
       "      <th></th>\n",
       "      <th>Class Index</th>\n",
       "      <th>Title</th>\n",
       "      <th>Description</th>\n",
       "    </tr>\n",
       "  </thead>\n",
       "  <tbody>\n",
       "    <tr>\n",
       "      <th>0</th>\n",
       "      <td>3</td>\n",
       "      <td>Wall St. Bears Claw Back Into the Black (Reuters)</td>\n",
       "      <td>Reuters - Short-sellers, Wall Street's dwindli...</td>\n",
       "    </tr>\n",
       "    <tr>\n",
       "      <th>1</th>\n",
       "      <td>3</td>\n",
       "      <td>Carlyle Looks Toward Commercial Aerospace (Reu...</td>\n",
       "      <td>Reuters - Private investment firm Carlyle Grou...</td>\n",
       "    </tr>\n",
       "    <tr>\n",
       "      <th>2</th>\n",
       "      <td>3</td>\n",
       "      <td>Oil and Economy Cloud Stocks' Outlook (Reuters)</td>\n",
       "      <td>Reuters - Soaring crude prices plus worries\\ab...</td>\n",
       "    </tr>\n",
       "    <tr>\n",
       "      <th>3</th>\n",
       "      <td>3</td>\n",
       "      <td>Iraq Halts Oil Exports from Main Southern Pipe...</td>\n",
       "      <td>Reuters - Authorities have halted oil export\\f...</td>\n",
       "    </tr>\n",
       "    <tr>\n",
       "      <th>4</th>\n",
       "      <td>3</td>\n",
       "      <td>Oil prices soar to all-time record, posing new...</td>\n",
       "      <td>AFP - Tearaway world oil prices, toppling reco...</td>\n",
       "    </tr>\n",
       "  </tbody>\n",
       "</table>\n",
       "</div>"
      ],
      "text/plain": [
       "   Class Index                                              Title  \\\n",
       "0            3  Wall St. Bears Claw Back Into the Black (Reuters)   \n",
       "1            3  Carlyle Looks Toward Commercial Aerospace (Reu...   \n",
       "2            3    Oil and Economy Cloud Stocks' Outlook (Reuters)   \n",
       "3            3  Iraq Halts Oil Exports from Main Southern Pipe...   \n",
       "4            3  Oil prices soar to all-time record, posing new...   \n",
       "\n",
       "                                         Description  \n",
       "0  Reuters - Short-sellers, Wall Street's dwindli...  \n",
       "1  Reuters - Private investment firm Carlyle Grou...  \n",
       "2  Reuters - Soaring crude prices plus worries\\ab...  \n",
       "3  Reuters - Authorities have halted oil export\\f...  \n",
       "4  AFP - Tearaway world oil prices, toppling reco...  "
      ]
     },
     "execution_count": 10,
     "metadata": {},
     "output_type": "execute_result"
    }
   ],
   "source": [
    "data.head()"
   ]
  },
  {
   "cell_type": "code",
   "execution_count": 11,
   "id": "298997d0",
   "metadata": {},
   "outputs": [
    {
     "data": {
      "text/plain": [
       "(12000, 3)"
      ]
     },
     "execution_count": 11,
     "metadata": {},
     "output_type": "execute_result"
    }
   ],
   "source": [
    "data.shape"
   ]
  },
  {
   "cell_type": "code",
   "execution_count": 12,
   "id": "8f94cdfe",
   "metadata": {},
   "outputs": [
    {
     "data": {
      "text/plain": [
       "array([3, 'Wall St. Bears Claw Back Into the Black (Reuters)',\n",
       "       \"Reuters - Short-sellers, Wall Street's dwindling\\\\band of ultra-cynics, are seeing green again.\"],\n",
       "      dtype=object)"
      ]
     },
     "execution_count": 12,
     "metadata": {},
     "output_type": "execute_result"
    }
   ],
   "source": [
    "data.loc[0].values"
   ]
  },
  {
   "cell_type": "code",
   "execution_count": 13,
   "id": "c659877c",
   "metadata": {},
   "outputs": [],
   "source": [
    "#one column for both title and description\n",
    "separator = \" \"\n",
    "data[\"Text\"] = data[\"Title\"] + separator + data[\"Description\"]"
   ]
  },
  {
   "cell_type": "code",
   "execution_count": 14,
   "id": "42c0cf9d",
   "metadata": {},
   "outputs": [],
   "source": [
    "data.drop(columns=[\"Title\",\"Description\"],inplace=True)"
   ]
  },
  {
   "cell_type": "code",
   "execution_count": 15,
   "id": "d48d72c4",
   "metadata": {},
   "outputs": [
    {
     "data": {
      "text/html": [
       "<div>\n",
       "<style scoped>\n",
       "    .dataframe tbody tr th:only-of-type {\n",
       "        vertical-align: middle;\n",
       "    }\n",
       "\n",
       "    .dataframe tbody tr th {\n",
       "        vertical-align: top;\n",
       "    }\n",
       "\n",
       "    .dataframe thead th {\n",
       "        text-align: right;\n",
       "    }\n",
       "</style>\n",
       "<table border=\"1\" class=\"dataframe\">\n",
       "  <thead>\n",
       "    <tr style=\"text-align: right;\">\n",
       "      <th></th>\n",
       "      <th>Class Index</th>\n",
       "      <th>Text</th>\n",
       "    </tr>\n",
       "  </thead>\n",
       "  <tbody>\n",
       "    <tr>\n",
       "      <th>0</th>\n",
       "      <td>3</td>\n",
       "      <td>Wall St. Bears Claw Back Into the Black (Reute...</td>\n",
       "    </tr>\n",
       "    <tr>\n",
       "      <th>1</th>\n",
       "      <td>3</td>\n",
       "      <td>Carlyle Looks Toward Commercial Aerospace (Reu...</td>\n",
       "    </tr>\n",
       "    <tr>\n",
       "      <th>2</th>\n",
       "      <td>3</td>\n",
       "      <td>Oil and Economy Cloud Stocks' Outlook (Reuters...</td>\n",
       "    </tr>\n",
       "    <tr>\n",
       "      <th>3</th>\n",
       "      <td>3</td>\n",
       "      <td>Iraq Halts Oil Exports from Main Southern Pipe...</td>\n",
       "    </tr>\n",
       "    <tr>\n",
       "      <th>4</th>\n",
       "      <td>3</td>\n",
       "      <td>Oil prices soar to all-time record, posing new...</td>\n",
       "    </tr>\n",
       "  </tbody>\n",
       "</table>\n",
       "</div>"
      ],
      "text/plain": [
       "   Class Index                                               Text\n",
       "0            3  Wall St. Bears Claw Back Into the Black (Reute...\n",
       "1            3  Carlyle Looks Toward Commercial Aerospace (Reu...\n",
       "2            3  Oil and Economy Cloud Stocks' Outlook (Reuters...\n",
       "3            3  Iraq Halts Oil Exports from Main Southern Pipe...\n",
       "4            3  Oil prices soar to all-time record, posing new..."
      ]
     },
     "execution_count": 15,
     "metadata": {},
     "output_type": "execute_result"
    }
   ],
   "source": [
    "data.head()"
   ]
  },
  {
   "cell_type": "code",
   "execution_count": 16,
   "id": "117f9c57",
   "metadata": {},
   "outputs": [
    {
     "data": {
      "text/plain": [
       "\"Wall St. Bears Claw Back Into the Black (Reuters) Reuters - Short-sellers, Wall Street's dwindling\\\\band of ultra-cynics, are seeing green again.\""
      ]
     },
     "execution_count": 16,
     "metadata": {},
     "output_type": "execute_result"
    }
   ],
   "source": [
    "data[\"Text\"][0]"
   ]
  },
  {
   "cell_type": "code",
   "execution_count": 17,
   "id": "bdcae644",
   "metadata": {},
   "outputs": [],
   "source": [
    "import re\n",
    "\n",
    "# Replace special characters, numbers, and punctuation marks with spaces\n",
    "data[\"Cleaned_Text\"] = data[\"Text\"].apply(lambda x: re.sub(r\"[^a-zA-Z\\s]\", \" \", x))\n",
    "\n",
    "# Convert the text to lowercase\n",
    "data[\"Cleaned_Text\"] = data[\"Cleaned_Text\"].str.lower()\n"
   ]
  },
  {
   "cell_type": "code",
   "execution_count": 18,
   "id": "b1ac5d9f",
   "metadata": {},
   "outputs": [
    {
     "data": {
      "text/plain": [
       "Index(['Class Index', 'Text', 'Cleaned_Text'], dtype='object')"
      ]
     },
     "execution_count": 18,
     "metadata": {},
     "output_type": "execute_result"
    }
   ],
   "source": [
    "data.columns"
   ]
  },
  {
   "cell_type": "code",
   "execution_count": 19,
   "id": "cea1ce21",
   "metadata": {},
   "outputs": [],
   "source": [
    "data.drop(columns=[\"Text\"],inplace=True)"
   ]
  },
  {
   "cell_type": "code",
   "execution_count": 20,
   "id": "376c8da2",
   "metadata": {},
   "outputs": [
    {
     "data": {
      "text/plain": [
       "Index(['Class Index', 'Cleaned_Text'], dtype='object')"
      ]
     },
     "execution_count": 20,
     "metadata": {},
     "output_type": "execute_result"
    }
   ],
   "source": [
    "data.columns"
   ]
  },
  {
   "cell_type": "code",
   "execution_count": 21,
   "id": "ddc2d443",
   "metadata": {},
   "outputs": [
    {
     "data": {
      "text/plain": [
       "'wall st  bears claw back into the black  reuters  reuters   short sellers  wall street s dwindling band of ultra cynics  are seeing green again '"
      ]
     },
     "execution_count": 21,
     "metadata": {},
     "output_type": "execute_result"
    }
   ],
   "source": [
    "#all cleaned up\n",
    "data[\"Cleaned_Text\"][0]"
   ]
  },
  {
   "cell_type": "code",
   "execution_count": 22,
   "id": "632ba35b",
   "metadata": {},
   "outputs": [
    {
     "name": "stderr",
     "output_type": "stream",
     "text": [
      "C:\\Users\\Admin\\anaconda3\\lib\\site-packages\\scipy\\__init__.py:146: UserWarning: A NumPy version >=1.16.5 and <1.23.0 is required for this version of SciPy (detected version 1.25.1\n",
      "  warnings.warn(f\"A NumPy version >={np_minversion} and <{np_maxversion}\"\n",
      "[nltk_data] Downloading package punkt to\n",
      "[nltk_data]     C:\\Users\\Admin\\AppData\\Roaming\\nltk_data...\n",
      "[nltk_data]   Package punkt is already up-to-date!\n"
     ]
    }
   ],
   "source": [
    "#some tokenization\n",
    "import nltk\n",
    "nltk.download('punkt')\n",
    "data[\"Tokens\"] = data[\"Cleaned_Text\"].apply(lambda x: nltk.word_tokenize(x))"
   ]
  },
  {
   "cell_type": "code",
   "execution_count": 23,
   "id": "8e9ea9e5",
   "metadata": {},
   "outputs": [
    {
     "data": {
      "text/plain": [
       "['wall',\n",
       " 'st',\n",
       " 'bears',\n",
       " 'claw',\n",
       " 'back',\n",
       " 'into',\n",
       " 'the',\n",
       " 'black',\n",
       " 'reuters',\n",
       " 'reuters',\n",
       " 'short',\n",
       " 'sellers',\n",
       " 'wall',\n",
       " 'street',\n",
       " 's',\n",
       " 'dwindling',\n",
       " 'band',\n",
       " 'of',\n",
       " 'ultra',\n",
       " 'cynics',\n",
       " 'are',\n",
       " 'seeing',\n",
       " 'green',\n",
       " 'again']"
      ]
     },
     "execution_count": 23,
     "metadata": {},
     "output_type": "execute_result"
    }
   ],
   "source": [
    "data[\"Tokens\"][0]"
   ]
  },
  {
   "cell_type": "code",
   "execution_count": 24,
   "id": "d967b09c",
   "metadata": {},
   "outputs": [
    {
     "name": "stderr",
     "output_type": "stream",
     "text": [
      "[nltk_data] Downloading package stopwords to\n",
      "[nltk_data]     C:\\Users\\Admin\\AppData\\Roaming\\nltk_data...\n",
      "[nltk_data]   Package stopwords is already up-to-date!\n"
     ]
    }
   ],
   "source": [
    "#getting them stopwords out\n",
    "nltk.download('stopwords')\n",
    "from nltk.corpus import stopwords\n",
    "\n",
    "stop_words = set(stopwords.words('english'))\n",
    "data[\"Without_Stopwords\"] = data[\"Tokens\"].apply(lambda x: [word for word in x if word.lower() not in stop_words])"
   ]
  },
  {
   "cell_type": "code",
   "execution_count": 25,
   "id": "3a11e1a1",
   "metadata": {},
   "outputs": [
    {
     "data": {
      "text/plain": [
       "['wall',\n",
       " 'st',\n",
       " 'bears',\n",
       " 'claw',\n",
       " 'back',\n",
       " 'black',\n",
       " 'reuters',\n",
       " 'reuters',\n",
       " 'short',\n",
       " 'sellers',\n",
       " 'wall',\n",
       " 'street',\n",
       " 'dwindling',\n",
       " 'band',\n",
       " 'ultra',\n",
       " 'cynics',\n",
       " 'seeing',\n",
       " 'green']"
      ]
     },
     "execution_count": 25,
     "metadata": {},
     "output_type": "execute_result"
    }
   ],
   "source": [
    "data[\"Without_Stopwords\"][0]"
   ]
  },
  {
   "cell_type": "code",
   "execution_count": 26,
   "id": "d00c5cb8",
   "metadata": {},
   "outputs": [
    {
     "name": "stderr",
     "output_type": "stream",
     "text": [
      "[nltk_data] Downloading package punkt to\n",
      "[nltk_data]     C:\\Users\\Admin\\AppData\\Roaming\\nltk_data...\n",
      "[nltk_data]   Package punkt is already up-to-date!\n"
     ]
    }
   ],
   "source": [
    "#all words in their original format\n",
    "nltk.download('punkt')\n",
    "from nltk.stem import PorterStemmer\n",
    "stemmer = PorterStemmer()\n",
    "data[\"Stemmed_Text\"] = data[\"Without_Stopwords\"].apply(lambda x: [stemmer.stem(word) for word in x])"
   ]
  },
  {
   "cell_type": "code",
   "execution_count": 27,
   "id": "4f350132",
   "metadata": {},
   "outputs": [
    {
     "data": {
      "text/plain": [
       "['wall',\n",
       " 'st',\n",
       " 'bear',\n",
       " 'claw',\n",
       " 'back',\n",
       " 'black',\n",
       " 'reuter',\n",
       " 'reuter',\n",
       " 'short',\n",
       " 'seller',\n",
       " 'wall',\n",
       " 'street',\n",
       " 'dwindl',\n",
       " 'band',\n",
       " 'ultra',\n",
       " 'cynic',\n",
       " 'see',\n",
       " 'green']"
      ]
     },
     "execution_count": 27,
     "metadata": {},
     "output_type": "execute_result"
    }
   ],
   "source": [
    "data[\"Stemmed_Text\"][0]"
   ]
  },
  {
   "cell_type": "code",
   "execution_count": 28,
   "id": "bf81c333",
   "metadata": {
    "scrolled": false
   },
   "outputs": [
    {
     "name": "stderr",
     "output_type": "stream",
     "text": [
      "[nltk_data] Downloading package punkt to\n",
      "[nltk_data]     C:\\Users\\Admin\\AppData\\Roaming\\nltk_data...\n",
      "[nltk_data]   Package punkt is already up-to-date!\n"
     ]
    }
   ],
   "source": [
    "#Let's do some embeddings\n",
    "from gensim.models import Word2Vec\n",
    "nltk.download('punkt')\n",
    "\n",
    "# Convert the text data to a list of lists of words\n",
    "sentences = data[\"Stemmed_Text\"].tolist()\n",
    "\n",
    "# Train Word2Vec model\n",
    "model_w2v = Word2Vec(sentences, vector_size=100, window=5, min_count=1, workers=4)\n"
   ]
  },
  {
   "cell_type": "code",
   "execution_count": 29,
   "id": "118896bc",
   "metadata": {},
   "outputs": [],
   "source": [
    "# Create a function to average word embeddings for a document\n",
    "def average_word_embeddings(document, model, vector_size):\n",
    "    embeddings = [model.wv[word] for word in document if word in model.wv]\n",
    "    if not embeddings:\n",
    "        return [0] * vector_size  # If no valid word found, return zero vector\n",
    "    return sum(embeddings) / len(embeddings)\n",
    "data[\"Document_Embeddings\"] = data[\"Stemmed_Text\"].apply(lambda x: average_word_embeddings(x, model_w2v, 100))\n"
   ]
  },
  {
   "cell_type": "code",
   "execution_count": 30,
   "id": "e6572d43",
   "metadata": {},
   "outputs": [
    {
     "data": {
      "text/plain": [
       "array([-0.2621819 ,  0.24154145,  0.30758113,  0.15270713, -0.19012924,\n",
       "       -0.6728355 ,  0.24666874,  0.73406833, -0.15479   , -0.45601076,\n",
       "        0.13999039, -0.29168978,  0.04785787,  0.1077373 ,  0.0157694 ,\n",
       "       -0.17897052,  0.25752956, -0.5020947 , -0.01317845, -0.72374547,\n",
       "        0.05032386,  0.30791488,  0.17917661, -0.2643966 ,  0.0799555 ,\n",
       "        0.03802651, -0.22106081, -0.07965464, -0.4035896 , -0.07653645,\n",
       "        0.20412327, -0.039119  ,  0.2642234 , -0.29694024, -0.04567728,\n",
       "        0.35361984, -0.01829621, -0.41134226, -0.21466653, -0.73760295,\n",
       "       -0.15203378, -0.25180188, -0.20854487,  0.02981257,  0.49663892,\n",
       "       -0.26883426, -0.2851619 , -0.04766466,  0.15068859,  0.24369499,\n",
       "       -0.01980845, -0.27139267, -0.63995016, -0.19313492, -0.26751155,\n",
       "        0.22510041,  0.30543482, -0.14646906, -0.22195965,  0.2810156 ,\n",
       "       -0.01447409,  0.32304436,  0.13234954,  0.0299487 , -0.5421011 ,\n",
       "        0.36737576, -0.19259995,  0.31798133, -0.2611694 ,  0.31271884,\n",
       "        0.11252908,  0.36119276,  0.30704778,  0.13579877,  0.49795592,\n",
       "        0.0578161 , -0.05064146, -0.17743585, -0.3435071 , -0.02815007,\n",
       "        0.04760426, -0.18243343, -0.30808622,  0.38647327, -0.03401974,\n",
       "       -0.01164452, -0.02023506,  0.25791207,  0.14992158,  0.13987976,\n",
       "        0.34534922,  0.0708342 ,  0.27802134,  0.23474304,  0.564361  ,\n",
       "        0.41534203,  0.15432915, -0.62809587,  0.07325291, -0.08946333],\n",
       "      dtype=float32)"
      ]
     },
     "execution_count": 30,
     "metadata": {},
     "output_type": "execute_result"
    }
   ],
   "source": [
    "data[\"Document_Embeddings\"][0]"
   ]
  },
  {
   "cell_type": "code",
   "execution_count": 31,
   "id": "fa9635d5",
   "metadata": {},
   "outputs": [
    {
     "data": {
      "text/plain": [
       "100"
      ]
     },
     "execution_count": 31,
     "metadata": {},
     "output_type": "execute_result"
    }
   ],
   "source": [
    "len(data[\"Document_Embeddings\"][0])"
   ]
  },
  {
   "cell_type": "code",
   "execution_count": 32,
   "id": "277f7b6c",
   "metadata": {},
   "outputs": [
    {
     "data": {
      "text/plain": [
       "Index(['Class Index', 'Cleaned_Text', 'Tokens', 'Without_Stopwords',\n",
       "       'Stemmed_Text', 'Document_Embeddings'],\n",
       "      dtype='object')"
      ]
     },
     "execution_count": 32,
     "metadata": {},
     "output_type": "execute_result"
    }
   ],
   "source": [
    "data.columns"
   ]
  },
  {
   "cell_type": "code",
   "execution_count": 33,
   "id": "f627615d",
   "metadata": {},
   "outputs": [],
   "source": [
    "data.drop(columns=[\"Cleaned_Text\",\"Tokens\",\"Without_Stopwords\"],inplace=True)"
   ]
  },
  {
   "cell_type": "markdown",
   "id": "c46427c5",
   "metadata": {},
   "source": [
    "## Testing Machine learning models"
   ]
  },
  {
   "cell_type": "code",
   "execution_count": 34,
   "id": "cbe101fe",
   "metadata": {},
   "outputs": [],
   "source": [
    "from sklearn.model_selection import train_test_split\n",
    "\n",
    "# Assuming your data DataFrame contains the columns 'Class Index', 'Stemmed_Text', and 'Document_Embeddings'\n",
    "X = data['Document_Embeddings']  # Features (Document Embeddings)\n",
    "y = data['Class Index']  # Target variable (Class Index)\n",
    "\n",
    "# Perform the train-test split with an 80-20 ratio\n",
    "# The random_state parameter ensures reproducibility of the split\n",
    "X_train, X_test, y_train, y_test = train_test_split(X, y, test_size=0.2, random_state=42)"
   ]
  },
  {
   "cell_type": "markdown",
   "id": "16a66a7b",
   "metadata": {},
   "source": [
    "NAIVE BAYES"
   ]
  },
  {
   "cell_type": "code",
   "execution_count": 35,
   "id": "0755bd02",
   "metadata": {},
   "outputs": [
    {
     "name": "stdout",
     "output_type": "stream",
     "text": [
      "Accuracy: 0.7225\n",
      "Classification Report:\n",
      "+-------+-----------+--------+----------+---------+\n",
      "| Class | Precision | Recall | F1-Score | Support |\n",
      "+-------+-----------+--------+----------+---------+\n",
      "|   1   |    0.79   |  0.77  |   0.78   |   618   |\n",
      "|   2   |    0.83   |  0.87  |   0.85   |   558   |\n",
      "|   3   |    0.72   |  0.52  |   0.6    |   592   |\n",
      "|   4   |    0.6    |  0.74  |   0.66   |   632   |\n",
      "+-------+-----------+--------+----------+---------+\n",
      "Accuracy: 0.72\n"
     ]
    }
   ],
   "source": [
    "from sklearn.naive_bayes import GaussianNB\n",
    "from sklearn.metrics import accuracy_score, classification_report\n",
    "from prettytable import PrettyTable\n",
    "\n",
    "\n",
    "# Initialize the Gaussian Naive Bayes classifier\n",
    "gaussian_nb_classifier = GaussianNB()\n",
    "\n",
    "# Train the classifier on the training data\n",
    "gaussian_nb_classifier.fit(X_train.to_list(), y_train)\n",
    "\n",
    "# Make predictions on the test data\n",
    "y_pred = gaussian_nb_classifier.predict(X_test.to_list())\n",
    "\n",
    "# Calculate accuracy\n",
    "accuracy = accuracy_score(y_test, y_pred)\n",
    "print(\"Accuracy:\", accuracy)\n",
    "\n",
    "# Print classification report\n",
    "report = classification_report(y_test, y_pred, output_dict=True)\n",
    "table = PrettyTable()\n",
    "table.field_names = [\"Class\", \"Precision\", \"Recall\", \"F1-Score\", \"Support\"]\n",
    "for label, metrics in report.items():\n",
    "    if label in ['accuracy', 'macro avg', 'weighted avg']:\n",
    "        continue\n",
    "    table.add_row([\n",
    "        label,\n",
    "        round(metrics['precision'], 2),\n",
    "        round(metrics['recall'], 2),\n",
    "        round(metrics['f1-score'], 2),\n",
    "        metrics['support']\n",
    "    ])\n",
    "\n",
    "print(\"Classification Report:\")\n",
    "print(table)\n",
    "print(\"Accuracy:\", round(accuracy, 2))"
   ]
  },
  {
   "cell_type": "code",
   "execution_count": 36,
   "id": "1438b5d8",
   "metadata": {},
   "outputs": [
    {
     "data": {
      "image/png": "[encoded data removed]",
      "text/plain": [
       "<Figure size 720x576 with 2 Axes>"
      ]
     },
     "metadata": {
      "needs_background": "light"
     },
     "output_type": "display_data"
    }
   ],
   "source": [
    "import seaborn as sns \n",
    "import matplotlib.pyplot as plt\n",
    "from sklearn.metrics import confusion_matrix\n",
    "import numpy as np\n",
    "# Calculate the confusion matrix\n",
    "cm = confusion_matrix(y_test, y_pred)\n",
    "\n",
    "# Create a heatmap of the confusion matrix\n",
    "plt.figure(figsize=(10, 8))\n",
    "sns.heatmap(cm, annot=True, cmap=\"Blues\", fmt=\"d\", xticklabels=np.unique(y_train), yticklabels=np.unique(y_train))\n",
    "plt.xlabel('Predicted')\n",
    "plt.ylabel('True')\n",
    "plt.title('Confusion Matrix')\n",
    "plt.show()"
   ]
  },
  {
   "cell_type": "markdown",
   "id": "cb393aab",
   "metadata": {},
   "source": [
    "SVM"
   ]
  },
  {
   "cell_type": "code",
   "execution_count": 37,
   "id": "61f5d3a2",
   "metadata": {},
   "outputs": [
    {
     "name": "stdout",
     "output_type": "stream",
     "text": [
      "Accuracy: 0.7945833333333333\n",
      "Classification Report:\n",
      "+-------+-----------+--------+----------+---------+\n",
      "| Class | Precision | Recall | F1-Score | Support |\n",
      "+-------+-----------+--------+----------+---------+\n",
      "|   1   |    0.82   |  0.79  |   0.81   |   618   |\n",
      "|   2   |    0.86   |  0.91  |   0.88   |   558   |\n",
      "|   3   |    0.78   |  0.73  |   0.75   |   592   |\n",
      "|   4   |    0.73   |  0.76  |   0.75   |   632   |\n",
      "+-------+-----------+--------+----------+---------+\n",
      "Accuracy: 0.79\n"
     ]
    }
   ],
   "source": [
    "from sklearn.svm import SVC\n",
    "\n",
    "# Initialize the SVM classifier with a linear kernel (you can explore other kernels as well)\n",
    "svm_classifier = SVC(kernel='linear')\n",
    "\n",
    "# Train the classifier on the training data\n",
    "svm_classifier.fit(X_train.to_list(), y_train)\n",
    "# Make predictions on the test data\n",
    "y_pred = svm_classifier.predict(X_test.to_list())\n",
    "# Calculate accuracy\n",
    "accuracy = accuracy_score(y_test, y_pred)\n",
    "print(\"Accuracy:\", accuracy)\n",
    "\n",
    "# Print classification report\n",
    "report = classification_report(y_test, y_pred, output_dict=True)\n",
    "table = PrettyTable()\n",
    "table.field_names = [\"Class\", \"Precision\", \"Recall\", \"F1-Score\", \"Support\"]\n",
    "for label, metrics in report.items():\n",
    "    if label in ['accuracy', 'macro avg', 'weighted avg']:\n",
    "        continue\n",
    "    table.add_row([\n",
    "        label,\n",
    "        round(metrics['precision'], 2),\n",
    "        round(metrics['recall'], 2),\n",
    "        round(metrics['f1-score'], 2),\n",
    "        metrics['support']\n",
    "    ])\n",
    "\n",
    "print(\"Classification Report:\")\n",
    "print(table)\n",
    "print(\"Accuracy:\", round(accuracy, 2))\n"
   ]
  },
  {
   "cell_type": "code",
   "execution_count": 38,
   "id": "286f80f4",
   "metadata": {
    "scrolled": false
   },
   "outputs": [
    {
     "data": {
      "image/png": "[encoded data removed]",
      "text/plain": [
       "<Figure size 720x576 with 2 Axes>"
      ]
     },
     "metadata": {
      "needs_background": "light"
     },
     "output_type": "display_data"
    }
   ],
   "source": [
    "# Calculate the confusion matrix\n",
    "cm = confusion_matrix(y_test, y_pred)\n",
    "\n",
    "# Create a heatmap of the confusion matrix\n",
    "plt.figure(figsize=(10, 8))\n",
    "sns.heatmap(cm, annot=True, cmap=\"Blues\", fmt=\"d\", xticklabels=np.unique(y_train), yticklabels=np.unique(y_train))\n",
    "plt.xlabel('Predicted')\n",
    "plt.ylabel('True')\n",
    "plt.title('Confusion Matrix')\n",
    "plt.show()"
   ]
  },
  {
   "cell_type": "markdown",
   "id": "02886d07",
   "metadata": {},
   "source": [
    "RANDOM FOREST"
   ]
  },
  {
   "cell_type": "code",
   "execution_count": 39,
   "id": "24c5d896",
   "metadata": {},
   "outputs": [
    {
     "name": "stdout",
     "output_type": "stream",
     "text": [
      "Random Forest Classifier Accuracy: 0.8154166666666667\n",
      "Classification Report:\n",
      "+-------+-----------+--------+----------+---------+\n",
      "| Class | Precision | Recall | F1-Score | Support |\n",
      "+-------+-----------+--------+----------+---------+\n",
      "|   1   |    0.85   |  0.8   |   0.83   |   618   |\n",
      "|   2   |    0.85   |  0.92  |   0.88   |   558   |\n",
      "|   3   |    0.79   |  0.77  |   0.78   |   592   |\n",
      "|   4   |    0.77   |  0.78  |   0.77   |   632   |\n",
      "+-------+-----------+--------+----------+---------+\n",
      "Accuracy: 0.82\n"
     ]
    }
   ],
   "source": [
    "from sklearn.ensemble import RandomForestClassifier\n",
    "\n",
    "# Initialize the Random Forest classifier\n",
    "rf_classifier = RandomForestClassifier(n_estimators=100, random_state=42)\n",
    "\n",
    "# Train the classifier on the training data\n",
    "rf_classifier.fit(X_train.to_list(), y_train)\n",
    "\n",
    "# Make predictions on the test data\n",
    "y_pred = rf_classifier.predict(X_test.to_list())\n",
    "\n",
    "# Calculate accuracy\n",
    "accuracy = accuracy_score(y_test, y_pred)\n",
    "print(\"Random Forest Classifier Accuracy:\", accuracy)\n",
    "\n",
    "# Print classification report\n",
    "report = classification_report(y_test, y_pred, output_dict=True)\n",
    "table = PrettyTable()\n",
    "table.field_names = [\"Class\", \"Precision\", \"Recall\", \"F1-Score\", \"Support\"]\n",
    "for label, metrics in report.items():\n",
    "    if label in ['accuracy', 'macro avg', 'weighted avg']:\n",
    "        continue\n",
    "    table.add_row([\n",
    "        label,\n",
    "        round(metrics['precision'], 2),\n",
    "        round(metrics['recall'], 2),\n",
    "        round(metrics['f1-score'], 2),\n",
    "        metrics['support']\n",
    "    ])\n",
    "\n",
    "print(\"Classification Report:\")\n",
    "print(table)\n",
    "print(\"Accuracy:\", round(accuracy, 2))\n",
    "\n"
   ]
  },
  {
   "cell_type": "code",
   "execution_count": 40,
   "id": "48186728",
   "metadata": {},
   "outputs": [
    {
     "data": {
      "image/png": "[encoded data removed]",
      "text/plain": [
       "<Figure size 720x576 with 2 Axes>"
      ]
     },
     "metadata": {
      "needs_background": "light"
     },
     "output_type": "display_data"
    }
   ],
   "source": [
    "# Calculate the confusion matrix\n",
    "cm = confusion_matrix(y_test, y_pred)\n",
    "\n",
    "# Create a heatmap of the confusion matrix\n",
    "plt.figure(figsize=(10, 8))\n",
    "sns.heatmap(cm, annot=True, cmap=\"Blues\", fmt=\"d\", xticklabels=np.unique(y_train), yticklabels=np.unique(y_train))\n",
    "plt.xlabel('Predicted')\n",
    "plt.ylabel('True')\n",
    "plt.title('Confusion Matrix')\n",
    "plt.show()"
   ]
  },
  {
   "cell_type": "markdown",
   "id": "f0176885",
   "metadata": {},
   "source": [
    "## Can we do better ?"
   ]
  },
  {
   "cell_type": "code",
   "execution_count": 41,
   "id": "605e403f",
   "metadata": {},
   "outputs": [
    {
     "name": "stderr",
     "output_type": "stream",
     "text": [
      "C:\\Users\\Admin\\anaconda3\\lib\\site-packages\\sklearn\\ensemble\\_forest.py:424: FutureWarning: `max_features='auto'` has been deprecated in 1.1 and will be removed in 1.3. To keep the past behaviour, explicitly set `max_features='sqrt'` or remove this parameter as it is also the default value for RandomForestClassifiers and ExtraTreesClassifiers.\n",
      "  warn(\n"
     ]
    },
    {
     "name": "stdout",
     "output_type": "stream",
     "text": [
      "Best Hyperparameters: {'max_depth': None, 'max_features': 'auto', 'min_samples_split': 2, 'n_estimators': 100}\n"
     ]
    },
    {
     "name": "stderr",
     "output_type": "stream",
     "text": [
      "C:\\Users\\Admin\\anaconda3\\lib\\site-packages\\sklearn\\ensemble\\_forest.py:424: FutureWarning: `max_features='auto'` has been deprecated in 1.1 and will be removed in 1.3. To keep the past behaviour, explicitly set `max_features='sqrt'` or remove this parameter as it is also the default value for RandomForestClassifiers and ExtraTreesClassifiers.\n",
      "  warn(\n"
     ]
    },
    {
     "name": "stdout",
     "output_type": "stream",
     "text": [
      "Random Forest Classifier Accuracy: 0.8154166666666667\n",
      "Classification Report:\n",
      "+-------+-----------+--------+----------+---------+\n",
      "| Class | Precision | Recall | F1-Score | Support |\n",
      "+-------+-----------+--------+----------+---------+\n",
      "|   1   |    0.85   |  0.8   |   0.83   |   618   |\n",
      "|   2   |    0.85   |  0.92  |   0.88   |   558   |\n",
      "|   3   |    0.79   |  0.77  |   0.78   |   592   |\n",
      "|   4   |    0.77   |  0.78  |   0.77   |   632   |\n",
      "+-------+-----------+--------+----------+---------+\n",
      "Accuracy: 0.82\n"
     ]
    }
   ],
   "source": [
    "import numpy as np\n",
    "from sklearn.ensemble import RandomForestClassifier\n",
    "from sklearn.model_selection import GridSearchCV\n",
    "\n",
    "\n",
    "# Define the hyperparameters to search\n",
    "param_grid = {\n",
    "    'n_estimators': [50, 100],\n",
    "    'max_depth': [None, 10],\n",
    "    'min_samples_split': [2, 5],\n",
    "    'max_features': ['auto', 'sqrt']\n",
    "}\n",
    "\n",
    "# Initialize the Random Forest classifier\n",
    "rf_classifier = RandomForestClassifier(random_state=42)\n",
    "\n",
    "# Perform Grid Search with cross-validation\n",
    "grid_search = GridSearchCV(rf_classifier, param_grid, cv=2, n_jobs=-1)\n",
    "grid_search.fit(X_train.to_list(), y_train)\n",
    "\n",
    "# Get the best hyperparameters\n",
    "best_params = grid_search.best_params_\n",
    "print(\"Best Hyperparameters:\", best_params)\n",
    "\n",
    "# Train the classifier with the best hyperparameters\n",
    "best_rf_classifier = RandomForestClassifier(**best_params, random_state=42)\n",
    "best_rf_classifier.fit(X_train.to_list(), y_train)\n",
    "\n",
    "# Make predictions on the test data\n",
    "y_pred = best_rf_classifier.predict(X_test.to_list())\n",
    "\n",
    "# Calculate accuracy\n",
    "accuracy = accuracy_score(y_test, y_pred)\n",
    "print(\"Random Forest Classifier Accuracy:\", accuracy)\n",
    "\n",
    "# Print classification report\n",
    "report = classification_report(y_test, y_pred, output_dict=True)\n",
    "table = PrettyTable()\n",
    "table.field_names = [\"Class\", \"Precision\", \"Recall\", \"F1-Score\", \"Support\"]\n",
    "for label, metrics in report.items():\n",
    "    if label in ['accuracy', 'macro avg', 'weighted avg']:\n",
    "        continue\n",
    "    table.add_row([\n",
    "        label,\n",
    "        round(metrics['precision'], 2),\n",
    "        round(metrics['recall'], 2),\n",
    "        round(metrics['f1-score'], 2),\n",
    "        metrics['support']\n",
    "    ])\n",
    "\n",
    "print(\"Classification Report:\")\n",
    "print(table)\n",
    "print(\"Accuracy:\", round(accuracy, 2))\n"
   ]
  },
  {
   "cell_type": "markdown",
   "id": "acf3bbc2",
   "metadata": {},
   "source": [
    "Moving on "
   ]
  },
  {
   "cell_type": "markdown",
   "id": "253814be",
   "metadata": {},
   "source": [
    "CNN"
   ]
  },
  {
   "cell_type": "code",
   "execution_count": 42,
   "id": "6b6fb5dc",
   "metadata": {},
   "outputs": [
    {
     "name": "stdout",
     "output_type": "stream",
     "text": [
      "Vocabulary Size: 15996\n"
     ]
    }
   ],
   "source": [
    "from keras.preprocessing.text import Tokenizer\n",
    "\n",
    "# Assuming your text data is in a list called 'text_data'\n",
    "text_data = data['Stemmed_Text'].tolist()\n",
    "\n",
    "tokenizer = Tokenizer()\n",
    "tokenizer.fit_on_texts(text_data)\n",
    "\n",
    "# Vocabulary size is the number of unique words in the dataset\n",
    "vocab_size = len(tokenizer.word_index)\n",
    "print(\"Vocabulary Size:\", vocab_size)\n"
   ]
  },
  {
   "cell_type": "code",
   "execution_count": 43,
   "id": "0321df47",
   "metadata": {},
   "outputs": [
    {
     "name": "stdout",
     "output_type": "stream",
     "text": [
      "Epoch 1/5\n",
      "240/240 [==============================] - 18s 69ms/step - loss: 0.7381 - accuracy: 0.7387 - val_loss: 0.3696 - val_accuracy: 0.8766\n",
      "Epoch 2/5\n",
      "240/240 [==============================] - 17s 70ms/step - loss: 0.2058 - accuracy: 0.9339 - val_loss: 0.3732 - val_accuracy: 0.8750\n",
      "Epoch 3/5\n",
      "240/240 [==============================] - 17s 72ms/step - loss: 0.0747 - accuracy: 0.9780 - val_loss: 0.4078 - val_accuracy: 0.8724\n",
      "Epoch 4/5\n",
      "240/240 [==============================] - 17s 70ms/step - loss: 0.0317 - accuracy: 0.9913 - val_loss: 0.4566 - val_accuracy: 0.8740\n",
      "Epoch 5/5\n",
      "240/240 [==============================] - 17s 70ms/step - loss: 0.0196 - accuracy: 0.9947 - val_loss: 0.4750 - val_accuracy: 0.8703\n",
      "75/75 [==============================] - 1s 15ms/step\n",
      "CNN Classifier Accuracy: 0.8570833333333333\n",
      "Classification Report:\n",
      "+-------+-----------+--------+----------+---------+\n",
      "| Class | Precision | Recall | F1-Score | Support |\n",
      "+-------+-----------+--------+----------+---------+\n",
      "|   0   |    0.82   |  0.87  |   0.85   |   618   |\n",
      "|   1   |    0.9    |  0.95  |   0.93   |   558   |\n",
      "|   2   |    0.81   |  0.84  |   0.82   |   592   |\n",
      "|   3   |    0.9    |  0.78  |   0.83   |   632   |\n",
      "+-------+-----------+--------+----------+---------+\n",
      "Accuracy: 0.86\n"
     ]
    }
   ],
   "source": [
    "import pandas as pd\n",
    "import numpy as np\n",
    "from sklearn.model_selection import train_test_split\n",
    "from keras.models import Sequential\n",
    "from keras.layers import Dense, Conv1D, GlobalMaxPooling1D, Embedding\n",
    "from tensorflow.keras.preprocessing.sequence import pad_sequences\n",
    "from sklearn.preprocessing import LabelEncoder\n",
    "from keras.utils import to_categorical\n",
    "from keras.preprocessing.text import Tokenizer\n",
    "\n",
    "# Assuming your data DataFrame contains the columns 'Class Index', 'Stemmed_Text', and 'Document_Embeddings'\n",
    "X = data['Stemmed_Text']  # Features (Stemmed_Text)\n",
    "y = data['Class Index']  # Target variable (Class Index)\n",
    "\n",
    "# Adjust the class indices to start from 0\n",
    "y_adjusted = y - 1\n",
    "\n",
    "# Convert to one-hot encoded categorical format\n",
    "y_categorical = to_categorical(y_adjusted)\n",
    "\n",
    "# Perform the train-test split with an 80-20 ratio\n",
    "X_train, X_test, y_train, y_test = train_test_split(X, y_categorical, test_size=0.2, random_state=42)\n",
    "\n",
    "# Tokenize and pad the text data\n",
    "max_length = max(len(x) for x in X)\n",
    "vocab_size = 10000  \n",
    "embedding_dim = 100  \n",
    "tokenizer = Tokenizer(num_words=vocab_size)\n",
    "tokenizer.fit_on_texts([' '.join(x) for x in X_train])\n",
    "X_train_seq = tokenizer.texts_to_sequences([' '.join(x) for x in X_train])\n",
    "X_test_seq = tokenizer.texts_to_sequences([' '.join(x) for x in X_test])\n",
    "X_train_padded = pad_sequences(X_train_seq, maxlen=max_length, padding='post')\n",
    "X_test_padded = pad_sequences(X_test_seq, maxlen=max_length, padding='post')\n",
    "\n",
    "# Build the CNN model\n",
    "model_cnn = Sequential()\n",
    "model_cnn.add(Embedding(vocab_size, embedding_dim, input_length=max_length))\n",
    "model_cnn.add(Conv1D(128, 5, activation='relu'))\n",
    "model_cnn.add(GlobalMaxPooling1D())\n",
    "model_cnn.add(Dense(64, activation='relu'))\n",
    "model_cnn.add(Dense(y_categorical.shape[1], activation='softmax'))\n",
    "\n",
    "# Compile the model\n",
    "model_cnn.compile(loss='categorical_crossentropy', optimizer='adam', metrics=['accuracy'])\n",
    "\n",
    "# Train the CNN model\n",
    "model_cnn.fit(X_train_padded, y_train, epochs=5, batch_size=32, validation_split=0.2, verbose=1)\n",
    "\n",
    "# Make predictions on the test data\n",
    "y_pred = model_cnn.predict(X_test_padded)\n",
    "y_pred_labels = np.argmax(y_pred, axis=1)\n",
    "y_test_labels = np.argmax(y_test, axis=1)\n",
    "\n",
    "# Calculate accuracy\n",
    "accuracy = accuracy_score(y_test_labels, y_pred_labels)\n",
    "print(\"CNN Classifier Accuracy:\", accuracy)\n",
    "\n",
    "# Convert back to original labels for classification report\n",
    "label_encoder = LabelEncoder()\n",
    "label_encoder.fit(y_adjusted)\n",
    "y_pred_labels_original = label_encoder.inverse_transform(y_pred_labels)\n",
    "y_test_labels_original = label_encoder.inverse_transform(y_test_labels)\n",
    "\n",
    "# Print classification report\n",
    "report = classification_report(y_test_labels_original, y_pred_labels_original, output_dict=True)\n",
    "table = PrettyTable()\n",
    "table.field_names = [\"Class\", \"Precision\", \"Recall\", \"F1-Score\", \"Support\"]\n",
    "for label, metrics in report.items():\n",
    "    if label in ['accuracy', 'macro avg', 'weighted avg']:\n",
    "        continue\n",
    "    table.add_row([\n",
    "        label,\n",
    "        round(metrics['precision'], 2),\n",
    "        round(metrics['recall'], 2),\n",
    "        round(metrics['f1-score'], 2),\n",
    "        metrics['support']\n",
    "    ])\n",
    "\n",
    "print(\"Classification Report:\")\n",
    "print(table)\n",
    "print(\"Accuracy:\", round(accuracy, 2))\n"
   ]
  },
  {
   "cell_type": "code",
   "execution_count": 44,
   "id": "d8911641",
   "metadata": {},
   "outputs": [
    {
     "data": {
      "image/png": "[encoded data removed]",
      "text/plain": [
       "<Figure size 720x576 with 2 Axes>"
      ]
     },
     "metadata": {
      "needs_background": "light"
     },
     "output_type": "display_data"
    }
   ],
   "source": [
    "cm = confusion_matrix(y_test_labels_original, y_pred_labels_original)\n",
    "\n",
    "# Create a heatmap of the confusion matrix\n",
    "plt.figure(figsize=(10, 8))\n",
    "sns.heatmap(cm, annot=True, cmap=\"Blues\", fmt=\"d\", xticklabels=label_encoder.classes_, yticklabels=label_encoder.classes_)\n",
    "plt.xlabel('Predicted')\n",
    "plt.ylabel('True')\n",
    "plt.title('Confusion Matrix')\n",
    "plt.show()"
   ]
  },
  {
   "cell_type": "code",
   "execution_count": 62,
   "id": "914fe19a",
   "metadata": {},
   "outputs": [
    {
     "name": "stdout",
     "output_type": "stream",
     "text": [
      "1/1 [==============================] - 0s 47ms/step\n",
      "Predicted Class: World\n"
     ]
    },
    {
     "name": "stderr",
     "output_type": "stream",
     "text": [
      "[nltk_data] Downloading package punkt to\n",
      "[nltk_data]     C:\\Users\\Admin\\AppData\\Roaming\\nltk_data...\n",
      "[nltk_data]   Package punkt is already up-to-date!\n",
      "[nltk_data] Downloading package stopwords to\n",
      "[nltk_data]     C:\\Users\\Admin\\AppData\\Roaming\\nltk_data...\n",
      "[nltk_data]   Package stopwords is already up-to-date!\n"
     ]
    }
   ],
   "source": [
    "# Define a function to preprocess the input text\n",
    "def preprocess_text(text):\n",
    "    # Replace special characters, numbers, and punctuation marks with spaces\n",
    "    text = ''.join([c if c.isalpha() else ' ' for c in text])\n",
    "    # Convert to lowercase\n",
    "    text = text.lower()\n",
    "    # Tokenize with nltk\n",
    "    nltk.download('punkt')\n",
    "    words = nltk.word_tokenize(text)\n",
    "    # Remove stop words with nltk\n",
    "    nltk.download('stopwords')\n",
    "    stop_words = set(stopwords.words('english'))\n",
    "    words = [word for word in words if word not in stop_words]\n",
    "    # Stem with nltk\n",
    "    stemmer = PorterStemmer()\n",
    "    words = [stemmer.stem(word) for word in words]\n",
    "    # Join the processed words\n",
    "    processed_text = ' '.join(words)\n",
    "    return processed_text\n",
    "\n",
    "# Create a dictionary to map class indices to class labels\n",
    "class_dict = {0: 'World', 1: 'Sports', 2: 'Business', 3: 'Sci/Tech'}\n",
    "\n",
    "# Function to get class label from the model prediction\n",
    "def get_class_label(text):\n",
    "    # Preprocess the text\n",
    "    preprocessed_text = preprocess_text(text)\n",
    "    # Convert the preprocessed text to sequences using the tokenizer\n",
    "    seq = tokenizer.texts_to_sequences([preprocessed_text])\n",
    "    # Pad the sequence\n",
    "    padded_seq = pad_sequences(seq, maxlen=max_length, padding='post')\n",
    "    # Make prediction using the trained CNN model\n",
    "    prediction = model_cnn.predict(padded_seq)\n",
    "    # Get the class index with highest probability\n",
    "    class_index = np.argmax(prediction)\n",
    "    # Get the class label from the dictionary\n",
    "    class_label = class_dict[class_index]\n",
    "    return class_label\n",
    "\n",
    "# Test the function with an example text\n",
    "example_text = \"Storage, servers bruise HP earnings\",\"update Earnings per share rise compared with a year ago, but company misses analysts' expectations by a long shot.\"\n",
    "predicted_class = get_class_label(example_text)\n",
    "print(\"Predicted Class:\", predicted_class)"
   ]
  },
  {
   "cell_type": "code",
   "execution_count": null,
   "id": "da9c2d69",
   "metadata": {},
   "outputs": [
    {
     "name": "stderr",
     "output_type": "stream",
     "text": [
      "C:\\Users\\Admin\\AppData\\Local\\Temp/ipykernel_7668/792105426.py:5: UserWarning: You have unused kwarg parameters in Textbox, please remove them: {'textarea': False}\n",
      "  inputs=gr.Textbox(textarea=False, placeholder=\"Enter your text here...\"),\n"
     ]
    },
    {
     "name": "stdout",
     "output_type": "stream",
     "text": [
      "Running on local URL:  http://127.0.0.1:7860\n"
     ]
    },
    {
     "name": "stderr",
     "output_type": "stream",
     "text": [
      "[nltk_data] Downloading package punkt to\n",
      "[nltk_data]     C:\\Users\\Admin\\AppData\\Roaming\\nltk_data...\n",
      "[nltk_data]   Package punkt is already up-to-date!\n",
      "[nltk_data] Downloading package stopwords to\n",
      "[nltk_data]     C:\\Users\\Admin\\AppData\\Roaming\\nltk_data...\n",
      "[nltk_data]   Package stopwords is already up-to-date!\n"
     ]
    },
    {
     "name": "stdout",
     "output_type": "stream",
     "text": [
      "1/1 [==============================] - 0s 87ms/step\n"
     ]
    },
    {
     "name": "stderr",
     "output_type": "stream",
     "text": [
      "[nltk_data] Downloading package punkt to\n",
      "[nltk_data]     C:\\Users\\Admin\\AppData\\Roaming\\nltk_data...\n",
      "[nltk_data]   Package punkt is already up-to-date!\n",
      "[nltk_data] Downloading package stopwords to\n",
      "[nltk_data]     C:\\Users\\Admin\\AppData\\Roaming\\nltk_data...\n",
      "[nltk_data]   Package stopwords is already up-to-date!\n"
     ]
    },
    {
     "name": "stdout",
     "output_type": "stream",
     "text": [
      "1/1 [==============================] - 0s 83ms/step\n",
      "1/1 [==============================] - 0s 56ms/step\n"
     ]
    },
    {
     "name": "stderr",
     "output_type": "stream",
     "text": [
      "[nltk_data] Downloading package punkt to\n",
      "[nltk_data]     C:\\Users\\Admin\\AppData\\Roaming\\nltk_data...\n",
      "[nltk_data]   Package punkt is already up-to-date!\n",
      "[nltk_data] Downloading package stopwords to\n",
      "[nltk_data]     C:\\Users\\Admin\\AppData\\Roaming\\nltk_data...\n",
      "[nltk_data]   Package stopwords is already up-to-date!\n"
     ]
    },
    {
     "name": "stdout",
     "output_type": "stream",
     "text": [
      "\r",
      "1/1 [==============================] - ETA: 0s"
     ]
    },
    {
     "name": "stderr",
     "output_type": "stream",
     "text": [
      "[nltk_data] Downloading package punkt to\n",
      "[nltk_data]     C:\\Users\\Admin\\AppData\\Roaming\\nltk_data...\n",
      "[nltk_data]   Package punkt is already up-to-date!\n",
      "[nltk_data] Downloading package stopwords to\n",
      "[nltk_data]     C:\\Users\\Admin\\AppData\\Roaming\\nltk_data...\n",
      "[nltk_data]   Package stopwords is already up-to-date!\n"
     ]
    },
    {
     "name": "stdout",
     "output_type": "stream",
     "text": [
      "1/1 [==============================] - 0s 77ms/step\n",
      "1/1 [==============================] - 0s 62ms/step\n"
     ]
    },
    {
     "name": "stderr",
     "output_type": "stream",
     "text": [
      "[nltk_data] Downloading package punkt to\n",
      "[nltk_data]     C:\\Users\\Admin\\AppData\\Roaming\\nltk_data...\n",
      "[nltk_data]   Package punkt is already up-to-date!\n",
      "[nltk_data] Downloading package stopwords to\n",
      "[nltk_data]     C:\\Users\\Admin\\AppData\\Roaming\\nltk_data...\n",
      "[nltk_data]   Package stopwords is already up-to-date!\n",
      "[nltk_data] Downloading package punkt to\n",
      "[nltk_data]     C:\\Users\\Admin\\AppData\\Roaming\\nltk_data...\n",
      "[nltk_data]   Package punkt is already up-to-date!\n",
      "[nltk_data] Downloading package stopwords to\n",
      "[nltk_data]     C:\\Users\\Admin\\AppData\\Roaming\\nltk_data...\n",
      "[nltk_data]   Package stopwords is already up-to-date!\n"
     ]
    },
    {
     "name": "stdout",
     "output_type": "stream",
     "text": [
      "1/1 [==============================] - 0s 71ms/step\n"
     ]
    }
   ],
   "source": [
    "import gradio as gr\n",
    "\n",
    "# Create the Gradio interface\n",
    "gr_interface = gr.Interface(fn=get_class_label, \n",
    "                            inputs=gr.Textbox(textarea=False, placeholder=\"Enter your text here...\"),\n",
    "                            outputs=gr.Label())\n",
    "\n",
    "# Launch the interface\n",
    "gr_interface.launch(share=True)\n"
   ]
  },
  {
   "cell_type": "code",
   "execution_count": null,
   "id": "58203175",
   "metadata": {},
   "outputs": [],
   "source": []
  }
 ],
 "metadata": {
  "kernelspec": {
   "display_name": "Python 3 (ipykernel)",
   "language": "python",
   "name": "python3"
  },
  "language_info": {
   "codemirror_mode": {
    "name": "ipython",
    "version": 3
   },
   "file_extension": ".py",
   "mimetype": "text/x-python",
   "name": "python",
   "nbconvert_exporter": "python",
   "pygments_lexer": "ipython3",
   "version": "3.9.7"
  }
 },
 "nbformat": 4,
 "nbformat_minor": 5
}
